{
 "cells": [
  {
   "cell_type": "code",
   "execution_count": 28,
   "metadata": {
    "collapsed": false
   },
   "outputs": [
    {
     "name": "stdout",
     "output_type": "stream",
     "text": [
      "list has even number\n"
     ]
    }
   ],
   "source": [
    "even=False\n",
    "l=[1,7,9,3,6,5]\n",
    "for i in l:\n",
    "    if i%2==0:\n",
    "        even=True\n",
    "        break\n",
    "if even==True:\n",
    "    print(\"list has even number\")\n",
    "else: \n",
    "    print (\"list does not have even number\")"
   ]
  },
  {
   "cell_type": "code",
   "execution_count": 38,
   "metadata": {
    "collapsed": false
   },
   "outputs": [
    {
     "name": "stdout",
     "output_type": "stream",
     "text": [
      "enter position 3\n",
      "enter number9\n",
      "[1, 2, 3, 9, 4, 5]\n"
     ]
    }
   ],
   "source": [
    "l=[1,2,3,4,5]\n",
    "x=int (input(\"enter position\"))\n",
    "y=int (input(\"enter number\"))\n",
    "l.insert(x,y)\n",
    "print(l)"
   ]
  },
  {
   "cell_type": "code",
   "execution_count": 40,
   "metadata": {
    "collapsed": false
   },
   "outputs": [
    {
     "name": "stdout",
     "output_type": "stream",
     "text": [
      " input your position here 5\n",
      " input your number here 6\n",
      "Do you want to run again(y/n)\n",
      "y\n",
      " input your position here 3\n",
      " input your number here 2\n",
      "Do you want to run again(y/n)\n",
      "n\n",
      "[1, 3, 4, 2, 5, 7, 6, 8, 9]\n"
     ]
    }
   ],
   "source": [
    "l=[1,3,4,5,7,8,9]\n",
    "a='y'\n",
    "while a =='y':\n",
    "    x=int(input(\" input your position here \"))\n",
    "    y=int(input(\" input your number here \"))\n",
    "    l.insert(x,y)\n",
    "    print(\"Do you want to run again(y/n)\")\n",
    "    z= input()\n",
    "    if z=='n':\n",
    "        break\n",
    "print(l)"
   ]
  },
  {
   "cell_type": "code",
   "execution_count": 45,
   "metadata": {
    "collapsed": false
   },
   "outputs": [
    {
     "name": "stdout",
     "output_type": "stream",
     "text": [
      "19\n"
     ]
    }
   ],
   "source": [
    "d={}\n",
    "m=0\n",
    "d[\"apple\"]=5\n",
    "d[\"orange\"]=4\n",
    "d[\"banana\"]=10\n",
    "for i in d:\n",
    "    m=m+d[i]\n",
    "print(m)"
   ]
  },
  {
   "cell_type": "code",
   "execution_count": 46,
   "metadata": {
    "collapsed": false
   },
   "outputs": [
    {
     "name": "stdout",
     "output_type": "stream",
     "text": [
      "19\n"
     ]
    }
   ],
   "source": [
    "d={\"apple\":3, \"orange\":4, \"banana\":12}\n",
    "print(sum(d.values()))\n"
   ]
  },
  {
   "cell_type": "code",
   "execution_count": 55,
   "metadata": {
    "collapsed": false
   },
   "outputs": [
    {
     "name": "stdout",
     "output_type": "stream",
     "text": [
      "enter range 4\n",
      "{1: 1.0, 2: 1.4142135623730951, 3: 1.7320508075688772, 4: 2.0}\n"
     ]
    }
   ],
   "source": [
    "i=int(input(\"enter range\"))\n",
    "d={}\n",
    "for i in range(1,i+1):\n",
    "    d[i]=i**0.5\n",
    "print(d)"
   ]
  },
  {
   "cell_type": "code",
   "execution_count": 61,
   "metadata": {
    "collapsed": false
   },
   "outputs": [
    {
     "name": "stdout",
     "output_type": "stream",
     "text": [
      "enter 1st number4\n",
      "enter 2nd number5\n",
      "enter operator*\n",
      "20\n"
     ]
    }
   ],
   "source": [
    "x=int(input(\"enter 1st number\"))\n",
    "y=int(input(\"enter 2nd number\"))\n",
    "z=input(\"enter operator\")\n",
    "if z==\"+\":\n",
    "    print(x+y)\n",
    "elif z==\"-\":\n",
    "    print(x-y)\n",
    "elif z==\"*\":\n",
    "    print(x*y)\n",
    "elif z==\"%\":\n",
    "    print(x/y)\n",
    "else:\n",
    "    print(\"error\")\n"
   ]
  },
  {
   "cell_type": "code",
   "execution_count": null,
   "metadata": {
    "collapsed": true
   },
   "outputs": [],
   "source": []
  }
 ],
 "metadata": {
  "kernelspec": {
   "display_name": "Python [Root]",
   "language": "python",
   "name": "Python [Root]"
  },
  "language_info": {
   "codemirror_mode": {
    "name": "ipython",
    "version": 3
   },
   "file_extension": ".py",
   "mimetype": "text/x-python",
   "name": "python",
   "nbconvert_exporter": "python",
   "pygments_lexer": "ipython3",
   "version": "3.5.2"
  }
 },
 "nbformat": 4,
 "nbformat_minor": 0
}
