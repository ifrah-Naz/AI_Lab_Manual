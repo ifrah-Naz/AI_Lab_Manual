{
 "cells": [
  {
   "cell_type": "code",
   "execution_count": 36,
   "metadata": {
    "collapsed": false
   },
   "outputs": [],
   "source": [
    "from keras.datasets import cifar100\n",
    "\n",
    "(x_train, y_train), (x_test, y_test) = cifar100.load_data(label_mode='fine')"
   ]
  },
  {
   "cell_type": "code",
   "execution_count": 37,
   "metadata": {
    "collapsed": true
   },
   "outputs": [],
   "source": [
    "import matplotlib.pyplot as plt\n",
    "plt.imshow(x_train[6])\n",
    "plt.show()"
   ]
  },
  {
   "cell_type": "code",
   "execution_count": 39,
   "metadata": {
    "collapsed": false
   },
   "outputs": [],
   "source": [
    "import numpy\n",
    "from keras.datasets import cifar10\n",
    "from keras.models import Sequential\n",
    "from keras.layers import Dense\n",
    "from keras.layers import Dropout\n",
    "from keras.layers import Flatten\n",
    "from keras.constraints import maxnorm\n",
    "from keras.optimizers import SGD\n",
    "from keras.layers.convolutional import Conv2D\n",
    "from keras.layers.convolutional import MaxPooling2D\n",
    "from keras.seed = 7\n",
    "numpy.random.seed(seed)utils import np_utils\n",
    "from keras import backend as K\n",
    "K.set_image_dim_ordering('th')\n",
    "\n"
   ]
  },
  {
   "cell_type": "code",
   "execution_count": 40,
   "metadata": {
    "collapsed": true
   },
   "outputs": [],
   "source": [
    "seed = 7\n",
    "numpy.random.seed(seed)"
   ]
  },
  {
   "cell_type": "code",
   "execution_count": 44,
   "metadata": {
    "collapsed": false
   },
   "outputs": [],
   "source": [
    "(X_train, y_train), (X_test, y_test) = cifar100.load_data()"
   ]
  },
  {
   "cell_type": "code",
   "execution_count": 45,
   "metadata": {
    "collapsed": false
   },
   "outputs": [],
   "source": [
    "\n",
    "# normalize inputs from 0-255 to 0.0-1.0\n",
    "X_train = X_train.astype('float32')\n",
    "X_test = X_test.astype('float32')\n",
    "X_train = X_train / 255.0\n",
    "X_test = X_test / 255.0\n"
   ]
  },
  {
   "cell_type": "code",
   "execution_count": 46,
   "metadata": {
    "collapsed": false
   },
   "outputs": [],
   "source": [
    "from keras.utils import np_utils\n",
    "y_train = np_utils.to_categorical(y_train)\n",
    "y_test = np_utils.to_categorical(y_test)\n",
    "num_classes = y_test.shape[1]"
   ]
  },
  {
   "cell_type": "code",
   "execution_count": 27,
   "metadata": {
    "collapsed": false
   },
   "outputs": [
    {
     "name": "stdout",
     "output_type": "stream",
     "text": [
      "_________________________________________________________________\n",
      "Layer (type)                 Output Shape              Param #   \n",
      "=================================================================\n",
      "conv2d_14 (Conv2D)           (None, 3, 32, 32)         9248      \n",
      "_________________________________________________________________\n",
      "dropout_10 (Dropout)         (None, 3, 32, 32)         0         \n",
      "_________________________________________________________________\n",
      "conv2d_15 (Conv2D)           (None, 3, 32, 32)         9248      \n",
      "_________________________________________________________________\n",
      "max_pooling2d_6 (MaxPooling2 (None, 1, 16, 32)         0         \n",
      "_________________________________________________________________\n",
      "flatten_5 (Flatten)          (None, 512)               0         \n",
      "_________________________________________________________________\n",
      "dense_5 (Dense)              (None, 512)               262656    \n",
      "_________________________________________________________________\n",
      "dropout_11 (Dropout)         (None, 512)               0         \n",
      "_________________________________________________________________\n",
      "dense_6 (Dense)              (None, 100)               51300     \n",
      "=================================================================\n",
      "Total params: 332,452\n",
      "Trainable params: 332,452\n",
      "Non-trainable params: 0\n",
      "_________________________________________________________________\n",
      "None\n"
     ]
    }
   ],
   "source": [
    "from keras.optimizers import SGD\n",
    "model = Sequential()\n",
    "model.add(Conv2D(32, (3, 3), input_shape=(3, 32, 32), padding='same', activation='relu', kernel_constraint=maxnorm(3)))\n",
    "model.add(Dropout(0.2))\n",
    "model.add(Conv2D(32, (3, 3), activation='relu', padding='same', kernel_constraint=maxnorm(3)))\n",
    "model.add(MaxPooling2D(pool_size=(2, 2)))\n",
    "model.add(Flatten())\n",
    "model.add(Dense(512, activation='relu', kernel_constraint=maxnorm(3)))\n",
    "model.add(Dropout(0.5))\n",
    "model.add(Dense(num_classes, activation='softmax'))\n",
    "# Compile model\n",
    "epochs = 25\n",
    "lrate = 0.01\n",
    "decay = lrate/epochs\n",
    "sgd = SGD(lr=lrate, momentum=0.9, decay=decay, nesterov=False)\n",
    "model.compile(loss='categorical_crossentropy', optimizer=sgd, metrics=['accuracy'])\n",
    "print(model.summary())"
   ]
  },
  {
   "cell_type": "code",
   "execution_count": 47,
   "metadata": {
    "collapsed": false
   },
   "outputs": [
    {
     "name": "stdout",
     "output_type": "stream",
     "text": [
      "Train on 50000 samples, validate on 10000 samples\n",
      "Epoch 1/25\n",
      "50000/50000 [==============================] - 22s 445us/step - loss: 4.3673 - acc: 0.0454 - val_loss: 3.9385 - val_acc: 0.1048\n",
      "Epoch 2/25\n",
      "50000/50000 [==============================] - 22s 435us/step - loss: 3.8041 - acc: 0.1181 - val_loss: 3.5515 - val_acc: 0.1686\n",
      "Epoch 3/25\n",
      "50000/50000 [==============================] - 22s 437us/step - loss: 3.5742 - acc: 0.1587 - val_loss: 3.3944 - val_acc: 0.2033\n",
      "Epoch 4/25\n",
      "50000/50000 [==============================] - 22s 435us/step - loss: 3.4390 - acc: 0.1801 - val_loss: 3.3205 - val_acc: 0.2085\n",
      "Epoch 5/25\n",
      "50000/50000 [==============================] - 22s 437us/step - loss: 3.3506 - acc: 0.1971 - val_loss: 3.2227 - val_acc: 0.2308\n",
      "Epoch 6/25\n",
      "50000/50000 [==============================] - 23s 466us/step - loss: 3.2760 - acc: 0.2098 - val_loss: 3.2046 - val_acc: 0.2393\n",
      "Epoch 7/25\n",
      "50000/50000 [==============================] - 23s 453us/step - loss: 3.2195 - acc: 0.2203 - val_loss: 3.1459 - val_acc: 0.2455\n",
      "Epoch 8/25\n",
      "50000/50000 [==============================] - 24s 489us/step - loss: 3.1698 - acc: 0.2277 - val_loss: 3.1331 - val_acc: 0.2463\n",
      "Epoch 9/25\n",
      "50000/50000 [==============================] - 22s 437us/step - loss: 3.1260 - acc: 0.2375 - val_loss: 3.0572 - val_acc: 0.2614\n",
      "Epoch 10/25\n",
      "50000/50000 [==============================] - 22s 431us/step - loss: 3.0897 - acc: 0.2436 - val_loss: 3.0270 - val_acc: 0.2664\n",
      "Epoch 11/25\n",
      "50000/50000 [==============================] - 22s 431us/step - loss: 3.0593 - acc: 0.2520 - val_loss: 3.0061 - val_acc: 0.2707\n",
      "Epoch 12/25\n",
      "50000/50000 [==============================] - 22s 431us/step - loss: 3.0272 - acc: 0.2575 - val_loss: 3.0028 - val_acc: 0.2714\n",
      "Epoch 13/25\n",
      "50000/50000 [==============================] - 22s 431us/step - loss: 3.0019 - acc: 0.2615 - val_loss: 2.9864 - val_acc: 0.2757\n",
      "Epoch 14/25\n",
      "50000/50000 [==============================] - 22s 431us/step - loss: 2.9770 - acc: 0.2637 - val_loss: 2.9565 - val_acc: 0.2807\n",
      "Epoch 15/25\n",
      "50000/50000 [==============================] - 22s 435us/step - loss: 2.9574 - acc: 0.2699 - val_loss: 2.9427 - val_acc: 0.2848\n",
      "Epoch 16/25\n",
      "50000/50000 [==============================] - 22s 434us/step - loss: 2.9358 - acc: 0.2727 - val_loss: 2.9269 - val_acc: 0.2836\n",
      "Epoch 17/25\n",
      "50000/50000 [==============================] - 22s 437us/step - loss: 2.9151 - acc: 0.2781 - val_loss: 2.9205 - val_acc: 0.2867\n",
      "Epoch 18/25\n",
      "50000/50000 [==============================] - 22s 449us/step - loss: 2.8986 - acc: 0.2793 - val_loss: 2.8871 - val_acc: 0.2947\n",
      "Epoch 19/25\n",
      "50000/50000 [==============================] - 22s 446us/step - loss: 2.8822 - acc: 0.2866 - val_loss: 2.8744 - val_acc: 0.2956\n",
      "Epoch 20/25\n",
      "50000/50000 [==============================] - 22s 439us/step - loss: 2.8644 - acc: 0.2876 - val_loss: 2.8706 - val_acc: 0.2938\n",
      "Epoch 21/25\n",
      "50000/50000 [==============================] - 22s 439us/step - loss: 2.8582 - acc: 0.2902 - val_loss: 2.8579 - val_acc: 0.3012\n",
      "Epoch 22/25\n",
      "50000/50000 [==============================] - 22s 441us/step - loss: 2.8368 - acc: 0.2936 - val_loss: 2.8491 - val_acc: 0.3013\n",
      "Epoch 23/25\n",
      "50000/50000 [==============================] - 22s 438us/step - loss: 2.8320 - acc: 0.2941 - val_loss: 2.8481 - val_acc: 0.3039\n",
      "Epoch 24/25\n",
      "50000/50000 [==============================] - 22s 442us/step - loss: 2.8167 - acc: 0.2985 - val_loss: 2.8527 - val_acc: 0.3030\n",
      "Epoch 25/25\n",
      "50000/50000 [==============================] - 22s 439us/step - loss: 2.8027 - acc: 0.3006 - val_loss: 2.8448 - val_acc: 0.3048\n",
      "Accuracy: 30.48%\n"
     ]
    }
   ],
   "source": [
    "model.fit(X_train, y_train, validation_data=(X_test, y_test), epochs=epochs, batch_size=32)\n",
    "# Final evaluation of the model\n",
    "scores = model.evaluate(X_test, y_test, verbose=0)\n",
    "print(\"Accuracy: %.2f%%\" % (scores[1]*100))\n"
   ]
  },
  {
   "cell_type": "code",
   "execution_count": null,
   "metadata": {
    "collapsed": true
   },
   "outputs": [],
   "source": []
  }
 ],
 "metadata": {
  "anaconda-cloud": {},
  "kernelspec": {
   "display_name": "Python [Root]",
   "language": "python",
   "name": "Python [Root]"
  },
  "language_info": {
   "codemirror_mode": {
    "name": "ipython",
    "version": 3
   },
   "file_extension": ".py",
   "mimetype": "text/x-python",
   "name": "python",
   "nbconvert_exporter": "python",
   "pygments_lexer": "ipython3",
   "version": "3.5.2"
  }
 },
 "nbformat": 4,
 "nbformat_minor": 0
}
